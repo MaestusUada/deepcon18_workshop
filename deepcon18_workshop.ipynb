{
  "nbformat": 4,
  "nbformat_minor": 0,
  "metadata": {
    "colab": {
      "name": "Deepcon18 Workshop",
      "version": "0.3.2",
      "provenance": [],
      "collapsed_sections": [
        "y4miuS-TqYcn",
        "BBF6Nqi9scQE",
        "Fs3nOUzBsqrG",
        "5MnGuFRpzzBh"
      ],
      "toc_visible": true
    },
    "kernelspec": {
      "display_name": "Python 3",
      "language": "python",
      "name": "python3"
    }
  },
  "cells": [
    {
      "metadata": {
        "id": "kO9wt2g3okLS",
        "colab_type": "text"
      },
      "cell_type": "markdown",
      "source": [
        "# Restoran Arama Botu\n",
        "\n",
        "\n",
        "Bu atölye çalışması iki bölümden oluşmaktadır:\n",
        "\n",
        "\n",
        "\n",
        "*   Bölüm 1: Bot alt yapısının oluşturulması\n",
        "*   Bölüm 2: Doğal dil anlama yetisini kazandırma\n",
        "\n",
        "\n",
        "\n"
      ]
    },
    {
      "metadata": {
        "id": "tK5os3OinphP",
        "colab_type": "text"
      },
      "cell_type": "markdown",
      "source": [
        "# Bölüm 1: Bot alt yapısının oluşturulması"
      ]
    },
    {
      "metadata": {
        "id": "y4miuS-TqYcn",
        "colab_type": "text"
      },
      "cell_type": "markdown",
      "source": [
        "### Kurulum\n",
        "\n",
        "**Rasa Core Mainline Kurulumu**: \n",
        "\n",
        "`!pip install -U git+https://github.com/rasahq/rasa_core.git`"
      ]
    },
    {
      "metadata": {
        "id": "X_2-sKgo_qyl",
        "colab_type": "code",
        "colab": {}
      },
      "cell_type": "code",
      "source": [
        "!pip install rasa_core;\n",
        "\n",
        "import logging, io, json, warnings\n",
        "logging.basicConfig(level=\"INFO\")\n",
        "warnings.filterwarnings('ignore')\n",
        "\n",
        "\n",
        "!rm -rf /content/babi_stories.md*\n",
        "!rm -rf /content/franken_data.json*\n",
        "!rm -rf /content/wget-log*\n",
        "!wget https://raw.githubusercontent.com/xentnex/deepcon18_workshop/master/data/babi_stories.md -P /content\n",
        "!wget https://raw.githubusercontent.com/xentnex/deepcon18_workshop/master/data/franken_data.json -P /content\n"
      ],
      "execution_count": 0,
      "outputs": []
    },
    {
      "metadata": {
        "id": "Fs3nOUzBsqrG",
        "colab_type": "text"
      },
      "cell_type": "markdown",
      "source": [
        "### Domain Tanımı\n"
      ]
    },
    {
      "metadata": {
        "id": "WB6eIXVkAOSX",
        "colab_type": "code",
        "colab": {
          "base_uri": "https://localhost:8080/",
          "height": 34
        },
        "outputId": "248ddd6f-0e82-4c5e-c8b9-c713d2850721"
      },
      "cell_type": "code",
      "source": [
        "domain_yml = \"\"\"\n",
        "slots:\n",
        "  cuisine:\n",
        "    type: text\n",
        "  people:\n",
        "    type: text\n",
        "  location:\n",
        "    type: text\n",
        "  price:\n",
        "    type: text\n",
        "  info:\n",
        "    type: text\n",
        "  matches:\n",
        "    type: unfeaturized\n",
        "\n",
        "entities:\n",
        "- location\n",
        "- info\n",
        "- people\n",
        "- price\n",
        "- cuisine\n",
        "\n",
        "intents:\n",
        " - greet\n",
        " - affirm\n",
        " - deny\n",
        " - inform\n",
        " - thankyou\n",
        " - request_info\n",
        "\n",
        "templates:\n",
        "  utter_greet:\n",
        "    - \"hey there!\"\n",
        "  utter_goodbye:\n",
        "    - \"goodbye :(\"\n",
        "    - \"Bye-bye\"\n",
        "  utter_default:\n",
        "    - \"default message\"\n",
        "  utter_ack_dosearch:\n",
        "    - \"ok let me see what I can find\"\n",
        "  utter_ack_findalternatives:\n",
        "    - \"ok let me see what else there is\"\n",
        "  utter_ack_makereservation:\n",
        "    - text: \"ok making a reservation for restaurant (price={price} cuisine={cuisine}) in location={location} for count={people}? \"\n",
        "      buttons:\n",
        "        - title: \"thank you\"\n",
        "          payload: \"thank you\"\n",
        "  utter_ask_cuisine:\n",
        "    - \"what kind of cuisine would you like?\"\n",
        "  utter_ask_howcanhelp:\n",
        "    - \"how can I help you?\"\n",
        "  utter_ask_location:\n",
        "    - \"where?\"\n",
        "  utter_ask_moreupdates: \n",
        "    - \"if you'd like to modify anything else, please tell me what. This is what I currently have: {location} (price: {price}, cuisine: {cuisine}) for {people} people.\"\n",
        "  utter_ask_numpeople:\n",
        "    - \"for how many people?\"\n",
        "  utter_ask_price:\n",
        "    - text: \"in which price range?\"\n",
        "      buttons:\n",
        "      - title: \"cheap\"\n",
        "        payload: \"cheap\"\n",
        "      - title: \"expensive\"\n",
        "        payload: \"expensive\"\n",
        "  utter_on_it:\n",
        "    - \"I'm on it\"\n",
        "\n",
        "actions:\n",
        "- utter_greet\n",
        "- utter_goodbye\n",
        "- utter_default\n",
        "- utter_ack_dosearch\n",
        "- utter_ack_findalternatives\n",
        "- utter_ack_makereservation\n",
        "- utter_ask_cuisine\n",
        "- utter_ask_howcanhelp\n",
        "- utter_ask_location\n",
        "- utter_ask_moreupdates\n",
        "- utter_ask_numpeople\n",
        "- utter_ask_price\n",
        "- utter_on_it\n",
        "- action_search_restaurants\n",
        "- action_suggest\n",
        "\"\"\"\n",
        "\n",
        "%store domain_yml > restaurant_domain.yml"
      ],
      "execution_count": 13,
      "outputs": [
        {
          "output_type": "stream",
          "text": [
            "Writing 'domain_yml' (str) to file 'restaurant_domain.yml'.\n"
          ],
          "name": "stdout"
        }
      ]
    },
    {
      "metadata": {
        "id": "zQxY6m6kvlj3",
        "colab_type": "text"
      },
      "cell_type": "markdown",
      "source": [
        "### Aksiyonlar\n",
        "\n"
      ]
    },
    {
      "metadata": {
        "id": "0jwyncXy0klW",
        "colab_type": "code",
        "colab": {}
      },
      "cell_type": "code",
      "source": [
        "from rasa_core_sdk import Action\n",
        "from rasa_core_sdk.events import SlotSet\n",
        "\n",
        "class RestaurantAPI(object):\n",
        "    def search(self, info):\n",
        "        return \"papi's pizza place\"\n",
        "\n",
        "class ActionSearchRestaurants(Action):\n",
        "    def name(self):\n",
        "        return 'action_search_restaurants'\n",
        "\n",
        "    def run(self, dispatcher, tracker, domain):\n",
        "        dispatcher.utter_message(\"looking for restaurants\")\n",
        "        restaurant_api = RestaurantAPI()\n",
        "        restaurants = restaurant_api.search(tracker.get_slot(\"cuisine\"))\n",
        "        return [SlotSet(\"matches\", restaurants)]\n",
        "\n",
        "\n",
        "class ActionSuggest(Action):\n",
        "    def name(self):\n",
        "        return 'action_suggest'\n",
        "\n",
        "    def run(self, dispatcher, tracker, domain):\n",
        "        dispatcher.utter_message(\"here's what I found:\")\n",
        "        dispatcher.utter_message(tracker.get_slot(\"matches\"))\n",
        "        dispatcher.utter_message(\"is it ok for you? \"\n",
        "                                 \"hint: I'm not going to \"\n",
        "                                 \"find anything else :)\")\n",
        "        return []\n"
      ],
      "execution_count": 0,
      "outputs": []
    },
    {
      "metadata": {
        "id": "7-vL0O2U0b_r",
        "colab_type": "text"
      },
      "cell_type": "markdown",
      "source": [
        "### Diyalog Modelinin Eğitilmesi"
      ]
    },
    {
      "metadata": {
        "id": "PKV49d7tAxmS",
        "colab_type": "code",
        "colab": {}
      },
      "cell_type": "code",
      "source": [
        "from rasa_core.policies.keras_policy import KerasPolicy\n",
        "from rasa_core.policies.memoization import MemoizationPolicy\n",
        "from rasa_core.agent import Agent\n",
        "\n",
        "\n",
        "import logging\n",
        "\n",
        "from rasa_core.policies.keras_policy import KerasPolicy\n",
        "\n",
        "logger = logging.getLogger(__name__)\n",
        "\n",
        "\n",
        "class RestaurantPolicy(KerasPolicy):\n",
        "    def model_architecture(self, input_shape, output_shape):\n",
        "        \"\"\"Build a Keras model and return a compiled model.\"\"\"\n",
        "        from keras.layers import LSTM, Activation, Masking, Dense\n",
        "        from keras.models import Sequential\n",
        "\n",
        "        from keras.models import Sequential\n",
        "        from keras.layers import \\\n",
        "            Masking, LSTM, Dense, TimeDistributed, Activation\n",
        "\n",
        "        # Build Model\n",
        "        model = Sequential()\n",
        "\n",
        "        # the shape of the y vector of the labels,\n",
        "        # determines which output from rnn will be used\n",
        "        # to calculate the loss\n",
        "        if len(output_shape) == 1:\n",
        "            # y is (num examples, num features) so\n",
        "            # only the last output from the rnn is used to\n",
        "            # calculate the loss\n",
        "            model.add(Masking(mask_value=-1, input_shape=input_shape))\n",
        "            model.add(LSTM(self.rnn_size))\n",
        "            model.add(Dense(input_dim=self.rnn_size, units=output_shape[-1]))\n",
        "        elif len(output_shape) == 2:\n",
        "            # y is (num examples, max_dialogue_len, num features) so\n",
        "            # all the outputs from the rnn are used to\n",
        "            # calculate the loss, therefore a sequence is returned and\n",
        "            # time distributed layer is used\n",
        "\n",
        "            # the first value in input_shape is max dialogue_len,\n",
        "            # it is set to None, to allow dynamic_rnn creation\n",
        "            # during prediction\n",
        "            model.add(Masking(mask_value=-1,\n",
        "                              input_shape=(None, input_shape[1])))\n",
        "            model.add(LSTM(self.rnn_size, return_sequences=True))\n",
        "            model.add(TimeDistributed(Dense(units=output_shape[-1])))\n",
        "        else:\n",
        "            raise ValueError(\"Cannot construct the model because\"\n",
        "                             \"length of output_shape = {} \"\n",
        "                             \"should be 1 or 2.\"\n",
        "                             \"\".format(len(output_shape)))\n",
        "\n",
        "        model.add(Activation('softmax'))\n",
        "\n",
        "        model.compile(loss='categorical_crossentropy',\n",
        "                      optimizer='adam',\n",
        "                      metrics=['accuracy'])\n",
        "\n",
        "        logger.debug(model.summary())\n",
        "        return model\n",
        "\n",
        "\n",
        "\n",
        "\n",
        "agent = Agent('restaurant_domain.yml', policies=[MemoizationPolicy(max_history=3), RestaurantPolicy()])\n",
        "training_data = agent.load_data('babi_stories.md')\n",
        "agent.train(\n",
        "            training_data,\n",
        "            epochs=400,\n",
        "            batch_size=100,\n",
        "            validation_split=0.2\n",
        ")\n",
        "\n",
        "agent.persist('models/dialogue')"
      ],
      "execution_count": 0,
      "outputs": []
    },
    {
      "metadata": {
        "id": "cNa5KHl1nzhT",
        "colab_type": "text"
      },
      "cell_type": "markdown",
      "source": [
        "# Bölüm 2: Doğal Dil Anlama özelliğinin eklenmesi"
      ]
    },
    {
      "metadata": {
        "id": "tGtnKfRG34Cd",
        "colab_type": "text"
      },
      "cell_type": "markdown",
      "source": [
        "###  Doğal Dil Anlama Modülünün Kurulumu\n"
      ]
    },
    {
      "metadata": {
        "id": "jtt8MXeip1Dp",
        "colab_type": "code",
        "colab": {}
      },
      "cell_type": "code",
      "source": [
        "!apt-get -qq install -y graphviz libgraphviz-dev pkg-config && pip install pygraphviz;\n",
        "!pip install rasa_nlu[spacy];\n",
        "!python -m spacy download en;"
      ],
      "execution_count": 0,
      "outputs": []
    },
    {
      "metadata": {
        "id": "1xeXgpdwzOAl",
        "colab_type": "text"
      },
      "cell_type": "markdown",
      "source": [
        "### Doğal Dil Anlama Modelinin Eğitilmesi"
      ]
    },
    {
      "metadata": {
        "id": "qHsAH49OePcM",
        "colab_type": "code",
        "colab": {}
      },
      "cell_type": "code",
      "source": [
        "from rasa_nlu.training_data import load_data\n",
        "from rasa_nlu.config import RasaNLUModelConfig\n",
        "from rasa_nlu.model import Trainer\n",
        "\n",
        "training_data = load_data('franken_data.json')\n",
        "pipeline = [{\"name\": \"nlp_spacy\"}, \n",
        "            {\"name\": \"tokenizer_spacy\"}, \n",
        "            {\"name\": \"intent_featurizer_spacy\"},  \n",
        "            {\"name\": \"intent_classifier_sklearn\"},\n",
        "            {\"name\": \"ner_crf\"},\n",
        "            {\"name\": \"ner_synonyms\"},\n",
        "           ]\n",
        "trainer = Trainer(RasaNLUModelConfig({\"pipeline\": pipeline}))\n",
        "interpreter = trainer.train(training_data)\n",
        "model_directory = trainer.persist('./projects/default/')"
      ],
      "execution_count": 0,
      "outputs": []
    },
    {
      "metadata": {
        "id": "FSjCEdvlzfSR",
        "colab_type": "text"
      },
      "cell_type": "markdown",
      "source": [
        "### Bot'un Ayağa Kaldırılması"
      ]
    },
    {
      "metadata": {
        "id": "Ywxs0ljHgkLm",
        "colab_type": "code",
        "colab": {}
      },
      "cell_type": "code",
      "source": [
        "from rasa_core.agent import Agent\n",
        "agent = Agent.load('models/dialogue', interpreter=model_directory)"
      ],
      "execution_count": 0,
      "outputs": []
    },
    {
      "metadata": {
        "id": "5MnGuFRpzzBh",
        "colab_type": "text"
      },
      "cell_type": "markdown",
      "source": [
        "### Bot Kullanıcı Arayüzü"
      ]
    },
    {
      "metadata": {
        "id": "t_4zHDsgkbno",
        "colab_type": "code",
        "colab": {}
      },
      "cell_type": "code",
      "source": [
        "print(\"Your bot is ready to talk! Type your messages here or send 'stop'\")\n",
        "while True:\n",
        "    a = input()\n",
        "    if a == 'stop':\n",
        "        break\n",
        "    responses = agent.handle_message(a)\n",
        "    for response in responses:\n",
        "        print(response[\"text\"])\n"
      ],
      "execution_count": 0,
      "outputs": []
    },
    {
      "metadata": {
        "id": "qWALQbCdwGxK",
        "colab_type": "text"
      },
      "cell_type": "markdown",
      "source": [
        "### Hikaye/Senaryo Eğitim Sonuçlarının Görüntülenmesi\n"
      ]
    },
    {
      "metadata": {
        "id": "zl6vtV72BDaV",
        "colab_type": "code",
        "colab": {}
      },
      "cell_type": "code",
      "source": [
        "from rasa_core.agent import Agent\n",
        "from IPython.display import Image\n",
        "\n",
        "agent = Agent.load('models/dialogue')\n",
        "agent.visualize(\"babi_stories.md\", \"story_graph.png\", max_history=2)\n",
        "Image(filename=\"story_graph.png\")"
      ],
      "execution_count": 0,
      "outputs": []
    }
  ]
}